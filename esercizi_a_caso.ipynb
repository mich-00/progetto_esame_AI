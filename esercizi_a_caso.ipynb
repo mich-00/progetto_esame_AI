{
  "nbformat": 4,
  "nbformat_minor": 0,
  "metadata": {
    "colab": {
      "name": "esercizi_a_caso.ipynb",
      "provenance": [],
      "authorship_tag": "ABX9TyODm9R6I9wjxJFFpNIdOwwK",
      "include_colab_link": true
    },
    "kernelspec": {
      "name": "python3",
      "display_name": "Python 3"
    },
    "language_info": {
      "name": "python"
    }
  },
  "cells": [
    {
      "cell_type": "markdown",
      "metadata": {
        "id": "view-in-github",
        "colab_type": "text"
      },
      "source": [
        "<a href=\"https://colab.research.google.com/github/mikiiiiiiiiiiiiiiiiiiii/progetto_esame_AI/blob/main/esercizi_a_caso.ipynb\" target=\"_parent\"><img src=\"https://colab.research.google.com/assets/colab-badge.svg\" alt=\"Open In Colab\"/></a>"
      ]
    },
    {
      "cell_type": "code",
      "metadata": {
        "id": "mc4eimLnzNi8"
      },
      "source": [
        "# !pip install scipy\n",
        "from scipy import stats as st\n",
        "import pandas as pd\n",
        "import numpy as np\n",
        "from scipy.stats import norm,expon\n",
        "import matplotlib.pyplot as plt\n",
        "import seaborn as sns\n"
      ],
      "execution_count": 200,
      "outputs": []
    },
    {
      "cell_type": "code",
      "source": [
        "s = 0.9555\n",
        "mean, var, skew, kurt = st.lognorm.stats(s, moments='mvsk')"
      ],
      "metadata": {
        "id": "fb6YlXgqVTxc"
      },
      "execution_count": 201,
      "outputs": []
    },
    {
      "cell_type": "code",
      "source": [
        "x=np.linspace(st.lognorm.ppf(0.01,s ),\n",
        "              st.lognorm.ppf(0.99,s),100)\n",
        "plt.plot(x,st.lognorm.pdf(x, s), 'r-',lw=5,alpha=0.6,label='lognorm pdf')"
      ],
      "metadata": {
        "colab": {
          "base_uri": "https://localhost:8080/",
          "height": 286
        },
        "id": "uiLipT-AWkzP",
        "outputId": "e320940e-5c56-410e-b9c4-5cbce68b9546"
      },
      "execution_count": 202,
      "outputs": [
        {
          "output_type": "execute_result",
          "data": {
            "text/plain": [
              "[<matplotlib.lines.Line2D at 0x7fca5f4e5450>]"
            ]
          },
          "metadata": {},
          "execution_count": 202
        },
        {
          "output_type": "display_data",
          "data": {
            "image/png": "[encoded data removed]",
            "text/plain": [
              "<Figure size 432x288 with 1 Axes>"
            ]
          },
          "metadata": {}
        }
      ]
    },
    {
      "cell_type": "code",
      "source": [
        "bau=[1,2,3,4,5,6]\n",
        "iterator=iter(bau)\n",
        "x=next(iterator)\n",
        "print(x)"
      ],
      "metadata": {
        "colab": {
          "base_uri": "https://localhost:8080/"
        },
        "id": "frkDtnC87yeV",
        "outputId": "c0a43dc7-34ba-4f2f-8a4b-ac749b354fab"
      },
      "execution_count": 203,
      "outputs": [
        {
          "output_type": "stream",
          "name": "stdout",
          "text": [
            "1\n"
          ]
        }
      ]
    },
    {
      "cell_type": "code",
      "source": [
        "x=4\n",
        "s='ciao' if x > 1 else 'arrivederci'\n",
        "s"
      ],
      "metadata": {
        "id": "PNk4HRT18YR0",
        "colab": {
          "base_uri": "https://localhost:8080/",
          "height": 35
        },
        "outputId": "1a8457e7-a410-42ee-b810-cae98a04d1a7"
      },
      "execution_count": 204,
      "outputs": [
        {
          "output_type": "execute_result",
          "data": {
            "application/vnd.google.colaboratory.intrinsic+json": {
              "type": "string"
            },
            "text/plain": [
              "'ciao'"
            ]
          },
          "metadata": {},
          "execution_count": 204
        }
      ]
    },
    {
      "cell_type": "code",
      "source": [
        "tup=(1,2,3,3,4,5,8,('stringaaa',))\n",
        "a,s,d,f,g,h,j,k=tup\n",
        "tup=list(tup)\n",
        "tup[0]=33\n",
        "tup\n",
        "type(tup[7])\n",
        "a"
      ],
      "metadata": {
        "colab": {
          "base_uri": "https://localhost:8080/"
        },
        "id": "qK4A4ryBxd82",
        "outputId": "db84be6b-a826-42af-8c0f-9e8bdb08ea03"
      },
      "execution_count": 205,
      "outputs": [
        {
          "output_type": "execute_result",
          "data": {
            "text/plain": [
              "1"
            ]
          },
          "metadata": {},
          "execution_count": 205
        }
      ]
    },
    {
      "cell_type": "code",
      "source": [
        "d=[3,5,7,9]\n",
        "a,c,b,m=d"
      ],
      "metadata": {
        "id": "107NXNHhy2eX"
      },
      "execution_count": 206,
      "outputs": []
    },
    {
      "cell_type": "code",
      "source": [
        "tuuple=(0,1,'ciao',[1,2,3,4,54])\n",
        "liist=['list1','list2']\n",
        "tuuple[::-1]\n",
        "zipped=zip(tuuple,liist)\n",
        "list(zipped)\n",
        "tuuple[3][0]=12"
      ],
      "metadata": {
        "id": "RMgfADUFW9OO"
      },
      "execution_count": 207,
      "outputs": []
    },
    {
      "cell_type": "code",
      "source": [
        "#options price generator\n",
        "# S_t=input() #stock price at time t\n",
        "r=0.1 ##float(input('risk free rate: '))\n",
        "S_0=50#float(input('prezzo dell\\'azione al tempo 0: ')) #stock price at time 0\n",
        "st_dev=0.3#float(input('deviazione standard: '))  #standard deviation\n",
        "# mean=float(input('media: '))  # mean \n",
        "t=3/12#float(input('time between S_0 and S_t: ')) # time between S_0 and S_t\n",
        "W_t= norm(loc=0,scale=np.sqrt(t)) # Brownian stochastic process ~(0,sqrt(t)) \n",
        "#funzionde per stimare il prezzo di un'azione \n",
        "def stima_del_prezzo_dell_azione_in_t(S_0,st_dev,r,t,W_t):\n",
        "  S_t=S_0*np.exp((r-st_dev**2/2)*t+st_dev*W_t.rvs())\n",
        "  return S_t\n",
        "\n",
        "stima_del_prezzo_dell_azione_in_t(S_0,st_dev,r,t,W_t)\n",
        "#funzione per stimare il valore atteso di un'azione asal tempo t\n",
        "def expected_value_of_S_t(S_0,st_dev,r,t,W_t):\n",
        "  EV=S_0*np.exp((r-st_dev**2/2)*t)\n",
        "\n",
        "K=50 #int(input('stike price: ')) #stike price\n",
        "stochastic_standard_norm=norm(loc=0,scale=1)\n",
        "\n",
        "# funzione per calcolare d1 del modello black and scholes\n",
        "def calculate_d_1(S_0,st_dev,r,t):\n",
        "  global d_1\n",
        "  d_1=(np.log(S_0/K)+(r+(st_dev**2/2))*t)/(st_dev*np.sqrt(t))\n",
        "  return d_1\n",
        "# funzione per calcolare d2 del modello black and scholes\n",
        "def calculate_d_2(S_0,st_dev,r,t):\n",
        "  global d_2\n",
        "  d_2=(np.log(S_0/K)+(r-(st_dev**2/2))*t)/(st_dev*np.sqrt(t)) #d_2=d_1-st_dev*np.sqrt(t) \n",
        "  return d_2\n",
        "# funzione per calcolare il prezzo della call\n",
        "def call_option_price(d_1,d_2,S_0,st_dev,r,t):\n",
        "  c=S_0*stochastic_standard_norm.cdf(d_1)-K*np.exp(-r*t)*stochastic_standard_norm.cdf(d_2)\n",
        "  return c\n",
        "#  funzione per calcolare il prezzo della put\n",
        "def put_option_price(d_1,d_2,S_0,st_dev,r,t):\n",
        "  p=K*np.exp(-r*t)*stochastic_standard_norm.cdf(-d_2)-S_0*stochastic_standard_norm.cdf(-d_1)\n",
        "  return p\n",
        "\n",
        "print(calculate_d_1(S_0,st_dev,r,t))\n",
        "print(calculate_d_2(S_0,st_dev,r,t))\n",
        "print(call_option_price(d_1,d_2,S_0,st_dev,r,t))\n",
        "print(put_option_price(d_1,d_2,S_0,st_dev,r,t))"
      ],
      "metadata": {
        "colab": {
          "base_uri": "https://localhost:8080/"
        },
        "id": "WhBwN1JS1JvV",
        "outputId": "78a0911c-70f1-43c8-fff2-94a3e7adce0d"
      },
      "execution_count": 208,
      "outputs": [
        {
          "output_type": "stream",
          "name": "stdout",
          "text": [
            "0.2416666666666667\n",
            "0.09166666666666669\n",
            "3.6104450660840186\n",
            "2.3759406675006467\n"
          ]
        }
      ]
    },
    {
      "cell_type": "code",
      "source": [
        "sample=[]\n",
        "for i in range(1000):\n",
        "  sample.append(W_t.rvs())\n",
        "plt.hist(sample,density=True,histtype='stepfilled')  "
      ],
      "metadata": {
        "colab": {
          "base_uri": "https://localhost:8080/",
          "height": 377
        },
        "id": "jZWe4l7VE7Yh",
        "outputId": "d41295d1-b33e-4a96-c3dd-1d27421ccf71"
      },
      "execution_count": 209,
      "outputs": [
        {
          "output_type": "execute_result",
          "data": {
            "text/plain": [
              "(array([0.01421102, 0.04547527, 0.21600755, 0.54570329, 0.74465762,\n",
              "        0.72760439, 0.34959117, 0.15063685, 0.02557984, 0.02273764]),\n",
              " array([-1.71874312, -1.36690357, -1.01506403, -0.66322448, -0.31138493,\n",
              "         0.04045461,  0.39229416,  0.74413371,  1.09597326,  1.4478128 ,\n",
              "         1.79965235]),\n",
              " <a list of 1 Patch objects>)"
            ]
          },
          "metadata": {},
          "execution_count": 209
        },
        {
          "output_type": "display_data",
          "data": {
            "image/png": "[encoded data removed]",
            "text/plain": [
              "<Figure size 432x288 with 1 Axes>"
            ]
          },
          "metadata": {}
        }
      ]
    },
    {
      "cell_type": "code",
      "source": [
        "stochastic_v=norm(loc=0,scale=1)\n",
        "stochastic_v.cdf(-0.09)"
      ],
      "metadata": {
        "colab": {
          "base_uri": "https://localhost:8080/"
        },
        "id": "WBLEBp_NP8Bo",
        "outputId": "b5a068e2-9a2d-4158-8366-e4749f350b3e"
      },
      "execution_count": 210,
      "outputs": [
        {
          "output_type": "execute_result",
          "data": {
            "text/plain": [
              "0.4641436074148279"
            ]
          },
          "metadata": {},
          "execution_count": 210
        }
      ]
    },
    {
      "cell_type": "code",
      "source": [
        "#random walk\n",
        "stochastic_1=norm(loc=0,scale=1)\n",
        "stochastic_2=norm(loc=0,scale=1)\n",
        "v_a=[]\n",
        "for i in range(1000):\n",
        "  v_a.append(stochastic_1.rvs()-stochastic_2.rvs())\n",
        "plt.plot(v_a)\n",
        "print('mean should be ~ 0:',np.mean(v_a), 'st. deviation should be ~1: ',np.std(v_a))"
      ],
      "metadata": {
        "colab": {
          "base_uri": "https://localhost:8080/",
          "height": 286
        },
        "id": "OIyVHURUE2hc",
        "outputId": "d10644b9-f278-4369-8dca-3cdfd37637f9"
      },
      "execution_count": 211,
      "outputs": [
        {
          "output_type": "stream",
          "name": "stdout",
          "text": [
            "mean should be ~ 0: -0.05057151221286307 st. deviation should be ~1:  1.443008626393277\n"
          ]
        },
        {
          "output_type": "display_data",
          "data": {
            "image/png": "[encoded data removed]",
            "text/plain": [
              "<Figure size 432x288 with 1 Axes>"
            ]
          },
          "metadata": {}
        }
      ]
    },
    {
      "cell_type": "code",
      "source": [
        "#random walk with drift\n",
        "stochastic_1=norm(loc=0,scale=1)\n",
        "stochastic_2=norm(loc=0,scale=1)\n",
        "v_a=[]\n",
        "for i in range(1000):\n",
        "  v_a.append(stochastic_1.rvs()-stochastic_2.rvs()+1)\n",
        "plt.plot(v_a)\n",
        "\n"
      ],
      "metadata": {
        "colab": {
          "base_uri": "https://localhost:8080/",
          "height": 286
        },
        "id": "SOqm7VFuGEws",
        "outputId": "21a8c9bc-11e7-422f-e460-46d09335fa61"
      },
      "execution_count": 212,
      "outputs": [
        {
          "output_type": "execute_result",
          "data": {
            "text/plain": [
              "[<matplotlib.lines.Line2D at 0x7fca61be3cd0>]"
            ]
          },
          "metadata": {},
          "execution_count": 212
        },
        {
          "output_type": "display_data",
          "data": {
            "image/png": "[encoded data removed]",
            "text/plain": [
              "<Figure size 432x288 with 1 Axes>"
            ]
          },
          "metadata": {}
        }
      ]
    },
    {
      "cell_type": "code",
      "source": [
        "# credit risk\n",
        "def funzione_indicatrice(momento_aleatorio_default,tempo):\n",
        "  if momento_aleatorio_default < tempo:\n",
        "    I=0\n",
        "  else:\n",
        "    I=1\n",
        "  return I\n",
        "T=1 #float(input('T: '))\n",
        "t=0.5 #float(input('t: '))\n",
        "my_lambda=0.20\n",
        "FACE_VALUE=100\n",
        "tau=expon(scale=1/my_lambda)\n",
        "prezzo=[]\n",
        "# plt.plot(tau.rvs(size=100))\n",
        "for i in range(10000):\n",
        "  prezzo_del_derivato_rischioso=FACE_VALUE*np.exp(-(r+my_lambda)*(T-t)) * funzione_indicatrice(tau.rvs(),t)\n",
        "  prezzo.append(prezzo_del_derivato_rischioso)\n",
        "plt.hist(prezzo)"
      ],
      "metadata": {
        "colab": {
          "base_uri": "https://localhost:8080/",
          "height": 377
        },
        "id": "q1WE5PNkXN71",
        "outputId": "57f7906a-b8c3-4165-a9d5-49d2aee38bc1"
      },
      "execution_count": 213,
      "outputs": [
        {
          "output_type": "execute_result",
          "data": {
            "text/plain": [
              "(array([ 933.,    0.,    0.,    0.,    0.,    0.,    0.,    0.,    0.,\n",
              "        9067.]),\n",
              " array([ 0.        ,  8.60707976, 17.21415953, 25.82123929, 34.42831906,\n",
              "        43.03539882, 51.64247859, 60.24955835, 68.85663811, 77.46371788,\n",
              "        86.07079764]),\n",
              " <a list of 10 Patch objects>)"
            ]
          },
          "metadata": {},
          "execution_count": 213
        },
        {
          "output_type": "display_data",
          "data": {
            "image/png": "[encoded data removed]",
            "text/plain": [
              "<Figure size 432x288 with 1 Axes>"
            ]
          },
          "metadata": {}
        }
      ]
    },
    {
      "cell_type": "code",
      "source": [
        "#random number genarator\n",
        "rng= np.random.default_rng(12345)\n",
        "print(rng)\n",
        "\n",
        "rng_1=np.random.default_rng()\n",
        "x=[]\n",
        "for i in range(10000):\n",
        "  x.append(rng_1.standard_normal())\n",
        "stoch=np.array(x)\n",
        "plt.hist(stoch,bins=50)"
      ],
      "metadata": {
        "colab": {
          "base_uri": "https://localhost:8080/",
          "height": 596
        },
        "id": "7-rPd8WZSGHd",
        "outputId": "e214a057-9b91-4d84-c327-13e8673a1dce"
      },
      "execution_count": 214,
      "outputs": [
        {
          "output_type": "stream",
          "name": "stdout",
          "text": [
            "Generator(PCG64)\n"
          ]
        },
        {
          "output_type": "execute_result",
          "data": {
            "text/plain": [
              "(array([  3.,   2.,   2.,   8.,   6.,  18.,  24.,  33.,  38.,  57.,  78.,\n",
              "         99., 143., 155., 199., 259., 298., 360., 410., 445., 495., 530.,\n",
              "        538., 537., 610., 548., 529., 484., 447., 425., 387., 349., 310.,\n",
              "        248., 218., 183., 134., 107.,  74.,  61.,  50.,  27.,  27.,  21.,\n",
              "          7.,   9.,   3.,   1.,   2.,   2.]),\n",
              " array([-3.51494567, -3.37234842, -3.22975118, -3.08715394, -2.9445567 ,\n",
              "        -2.80195945, -2.65936221, -2.51676497, -2.37416772, -2.23157048,\n",
              "        -2.08897324, -1.946376  , -1.80377875, -1.66118151, -1.51858427,\n",
              "        -1.37598702, -1.23338978, -1.09079254, -0.9481953 , -0.80559805,\n",
              "        -0.66300081, -0.52040357, -0.37780632, -0.23520908, -0.09261184,\n",
              "         0.0499854 ,  0.19258265,  0.33517989,  0.47777713,  0.62037438,\n",
              "         0.76297162,  0.90556886,  1.0481661 ,  1.19076335,  1.33336059,\n",
              "         1.47595783,  1.61855508,  1.76115232,  1.90374956,  2.0463468 ,\n",
              "         2.18894405,  2.33154129,  2.47413853,  2.61673578,  2.75933302,\n",
              "         2.90193026,  3.0445275 ,  3.18712475,  3.32972199,  3.47231923,\n",
              "         3.61491647]),\n",
              " <a list of 50 Patch objects>)"
            ]
          },
          "metadata": {},
          "execution_count": 214
        },
        {
          "output_type": "display_data",
          "data": {
            "image/png": "[encoded data removed]",
            "text/plain": [
              "<Figure size 432x288 with 1 Axes>"
            ]
          },
          "metadata": {}
        }
      ]
    },
    {
      "cell_type": "code",
      "source": [
        "\n",
        "# a,b,c,d,e,f=st.alpha() , st.gamma(),st.expon(),st.lognorm(),st.uniform(),st.t()\n",
        "l={}\n",
        "lista_di_distribuzioni=[st.alpha(2) , st.gamma(2),st.expon(),st.lognorm(1),st.uniform(),st.t(10)]\n",
        "def dammi_un_campione_di_dati(n_dati):\n",
        "  for i,b in enumerate(lista_di_distribuzioni):\n",
        "    l[i]=b.rvs(size=n_dati)\n",
        "  df=pd.DataFrame.from_dict(l)\n",
        "  return df\n",
        "\n",
        "dammi_un_campione_di_dati(1000)\n",
        "\n",
        "sns.set()\n",
        "\n",
        "sns.distplot(df.iloc[:,0],bins=50,ax=axes[0:0])\n",
        "sns.distplot(df.iloc[:,1],bins=50,ax=axes[0:1])\n",
        "sns.distplot(df.iloc[:,2],bins=50,ax=axes[0:2])\n",
        "sns.distplot(df.iloc[:,3],bins=50,ax=axes[1:0])\n",
        "sns.distplot(df.iloc[:,4],bins=50,ax=axes[1:1])\n",
        "sns.distplot(df.iloc[:,5],bins=50,ax=axes[1:2])\n",
        "plt.show()\n"
      ],
      "metadata": {
        "colab": {
          "base_uri": "https://localhost:8080/",
          "height": 429
        },
        "id": "07wEjetNaXn3",
        "outputId": "dc6f3007-2940-4c0e-e5ff-06887d6387cd"
      },
      "execution_count": 215,
      "outputs": [
        {
          "output_type": "stream",
          "name": "stderr",
          "text": [
            "/usr/local/lib/python3.7/dist-packages/seaborn/distributions.py:2619: FutureWarning: `distplot` is a deprecated function and will be removed in a future version. Please adapt your code to use either `displot` (a figure-level function with similar flexibility) or `histplot` (an axes-level function for histograms).\n",
            "  warnings.warn(msg, FutureWarning)\n"
          ]
        },
        {
          "output_type": "error",
          "ename": "AttributeError",
          "evalue": "ignored",
          "traceback": [
            "\u001b[0;31m---------------------------------------------------------------------------\u001b[0m",
            "\u001b[0;31mAttributeError\u001b[0m                            Traceback (most recent call last)",
            "\u001b[0;32m<ipython-input-215-4c214a86ceb4>\u001b[0m in \u001b[0;36m<module>\u001b[0;34m()\u001b[0m\n\u001b[1;32m     13\u001b[0m \u001b[0msns\u001b[0m\u001b[0;34m.\u001b[0m\u001b[0mset\u001b[0m\u001b[0;34m(\u001b[0m\u001b[0;34m)\u001b[0m\u001b[0;34m\u001b[0m\u001b[0;34m\u001b[0m\u001b[0m\n\u001b[1;32m     14\u001b[0m \u001b[0;34m\u001b[0m\u001b[0m\n\u001b[0;32m---> 15\u001b[0;31m \u001b[0msns\u001b[0m\u001b[0;34m.\u001b[0m\u001b[0mdistplot\u001b[0m\u001b[0;34m(\u001b[0m\u001b[0mdf\u001b[0m\u001b[0;34m.\u001b[0m\u001b[0miloc\u001b[0m\u001b[0;34m[\u001b[0m\u001b[0;34m:\u001b[0m\u001b[0;34m,\u001b[0m\u001b[0;36m0\u001b[0m\u001b[0;34m]\u001b[0m\u001b[0;34m,\u001b[0m\u001b[0mbins\u001b[0m\u001b[0;34m=\u001b[0m\u001b[0;36m50\u001b[0m\u001b[0;34m,\u001b[0m\u001b[0max\u001b[0m\u001b[0;34m=\u001b[0m\u001b[0maxes\u001b[0m\u001b[0;34m[\u001b[0m\u001b[0;36m0\u001b[0m\u001b[0;34m:\u001b[0m\u001b[0;36m0\u001b[0m\u001b[0;34m]\u001b[0m\u001b[0;34m)\u001b[0m\u001b[0;34m\u001b[0m\u001b[0;34m\u001b[0m\u001b[0m\n\u001b[0m\u001b[1;32m     16\u001b[0m \u001b[0msns\u001b[0m\u001b[0;34m.\u001b[0m\u001b[0mdistplot\u001b[0m\u001b[0;34m(\u001b[0m\u001b[0mdf\u001b[0m\u001b[0;34m.\u001b[0m\u001b[0miloc\u001b[0m\u001b[0;34m[\u001b[0m\u001b[0;34m:\u001b[0m\u001b[0;34m,\u001b[0m\u001b[0;36m1\u001b[0m\u001b[0;34m]\u001b[0m\u001b[0;34m,\u001b[0m\u001b[0mbins\u001b[0m\u001b[0;34m=\u001b[0m\u001b[0;36m50\u001b[0m\u001b[0;34m,\u001b[0m\u001b[0max\u001b[0m\u001b[0;34m=\u001b[0m\u001b[0maxes\u001b[0m\u001b[0;34m[\u001b[0m\u001b[0;36m0\u001b[0m\u001b[0;34m:\u001b[0m\u001b[0;36m1\u001b[0m\u001b[0;34m]\u001b[0m\u001b[0;34m)\u001b[0m\u001b[0;34m\u001b[0m\u001b[0;34m\u001b[0m\u001b[0m\n\u001b[1;32m     17\u001b[0m \u001b[0msns\u001b[0m\u001b[0;34m.\u001b[0m\u001b[0mdistplot\u001b[0m\u001b[0;34m(\u001b[0m\u001b[0mdf\u001b[0m\u001b[0;34m.\u001b[0m\u001b[0miloc\u001b[0m\u001b[0;34m[\u001b[0m\u001b[0;34m:\u001b[0m\u001b[0;34m,\u001b[0m\u001b[0;36m2\u001b[0m\u001b[0;34m]\u001b[0m\u001b[0;34m,\u001b[0m\u001b[0mbins\u001b[0m\u001b[0;34m=\u001b[0m\u001b[0;36m50\u001b[0m\u001b[0;34m,\u001b[0m\u001b[0max\u001b[0m\u001b[0;34m=\u001b[0m\u001b[0maxes\u001b[0m\u001b[0;34m[\u001b[0m\u001b[0;36m0\u001b[0m\u001b[0;34m:\u001b[0m\u001b[0;36m2\u001b[0m\u001b[0;34m]\u001b[0m\u001b[0;34m)\u001b[0m\u001b[0;34m\u001b[0m\u001b[0;34m\u001b[0m\u001b[0m\n",
            "\u001b[0;32m/usr/local/lib/python3.7/dist-packages/seaborn/distributions.py\u001b[0m in \u001b[0;36mdistplot\u001b[0;34m(a, bins, hist, kde, rug, fit, hist_kws, kde_kws, rug_kws, fit_kws, color, vertical, norm_hist, axlabel, label, ax, x)\u001b[0m\n\u001b[1;32m   2655\u001b[0m             \u001b[0mline\u001b[0m\u001b[0;34m,\u001b[0m \u001b[0;34m=\u001b[0m \u001b[0max\u001b[0m\u001b[0;34m.\u001b[0m\u001b[0mplot\u001b[0m\u001b[0;34m(\u001b[0m\u001b[0;36m0\u001b[0m\u001b[0;34m,\u001b[0m \u001b[0ma\u001b[0m\u001b[0;34m.\u001b[0m\u001b[0mmean\u001b[0m\u001b[0;34m(\u001b[0m\u001b[0;34m)\u001b[0m\u001b[0;34m)\u001b[0m\u001b[0;34m\u001b[0m\u001b[0;34m\u001b[0m\u001b[0m\n\u001b[1;32m   2656\u001b[0m         \u001b[0;32melse\u001b[0m\u001b[0;34m:\u001b[0m\u001b[0;34m\u001b[0m\u001b[0;34m\u001b[0m\u001b[0m\n\u001b[0;32m-> 2657\u001b[0;31m             \u001b[0mline\u001b[0m\u001b[0;34m,\u001b[0m \u001b[0;34m=\u001b[0m \u001b[0max\u001b[0m\u001b[0;34m.\u001b[0m\u001b[0mplot\u001b[0m\u001b[0;34m(\u001b[0m\u001b[0ma\u001b[0m\u001b[0;34m.\u001b[0m\u001b[0mmean\u001b[0m\u001b[0;34m(\u001b[0m\u001b[0;34m)\u001b[0m\u001b[0;34m,\u001b[0m \u001b[0;36m0\u001b[0m\u001b[0;34m)\u001b[0m\u001b[0;34m\u001b[0m\u001b[0;34m\u001b[0m\u001b[0m\n\u001b[0m\u001b[1;32m   2658\u001b[0m         \u001b[0mcolor\u001b[0m \u001b[0;34m=\u001b[0m \u001b[0mline\u001b[0m\u001b[0;34m.\u001b[0m\u001b[0mget_color\u001b[0m\u001b[0;34m(\u001b[0m\u001b[0;34m)\u001b[0m\u001b[0;34m\u001b[0m\u001b[0;34m\u001b[0m\u001b[0m\n\u001b[1;32m   2659\u001b[0m         \u001b[0mline\u001b[0m\u001b[0;34m.\u001b[0m\u001b[0mremove\u001b[0m\u001b[0;34m(\u001b[0m\u001b[0;34m)\u001b[0m\u001b[0;34m\u001b[0m\u001b[0;34m\u001b[0m\u001b[0m\n",
            "\u001b[0;31mAttributeError\u001b[0m: 'numpy.ndarray' object has no attribute 'plot'"
          ]
        }
      ]
    },
    {
      "cell_type": "code",
      "source": [
        "c=st.uniform()\n",
        "d=c.rvs(size=100) \n",
        "bi={}\n",
        "bi['d']=d\n",
        "plt.hist(d,100)"
      ],
      "metadata": {
        "id": "t1Nkk7z6n8k9"
      },
      "execution_count": null,
      "outputs": []
    },
    {
      "cell_type": "code",
      "source": [
        "\n",
        "lista=[st.norm()]\n",
        "lista[0].rvs()"
      ],
      "metadata": {
        "id": "S_2A99OWpSkD"
      },
      "execution_count": null,
      "outputs": []
    }
  ]
}