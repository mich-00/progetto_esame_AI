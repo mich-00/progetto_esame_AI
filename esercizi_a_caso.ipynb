{
  "nbformat": 4,
  "nbformat_minor": 0,
  "metadata": {
    "colab": {
      "name": "esercizi_a_caso.ipynb",
      "provenance": [],
      "authorship_tag": "ABX9TyNPNh3qCxAoiD7O075+fgmf"
    },
    "kernelspec": {
      "name": "python3",
      "display_name": "Python 3"
    },
    "language_info": {
      "name": "python"
    }
  },
  "cells": [
    {
      "cell_type": "code",
      "source": [
        "!pip install scipy"
      ],
      "metadata": {
        "colab": {
          "base_uri": "https://localhost:8080/"
        },
        "id": "v8-i2-bZVNV7",
        "outputId": "b942b4db-5fcc-4944-b50e-8833ad6000e0"
      },
      "execution_count": 1,
      "outputs": [
        {
          "output_type": "stream",
          "name": "stdout",
          "text": [
            "Requirement already satisfied: scipy in /usr/local/lib/python3.7/dist-packages (1.4.1)\n",
            "Requirement already satisfied: numpy>=1.13.3 in /usr/local/lib/python3.7/dist-packages (from scipy) (1.19.5)\n"
          ]
        }
      ]
    },
    {
      "cell_type": "code",
      "metadata": {
        "id": "mc4eimLnzNi8"
      },
      "source": [
        "from scipy import stats as st \n",
        "import numpy as np\n",
        "from scipy.stats import norm,expon\n",
        "import matplotlib.pyplot as plt\n",
        "# fig, ax=plt.subplots(1,1)\n"
      ],
      "execution_count": 18,
      "outputs": []
    },
    {
      "cell_type": "code",
      "source": [
        "s = 0.9555\n",
        "mean, var, skew, kurt = st.lognorm.stats(s, moments='mvsk')"
      ],
      "metadata": {
        "id": "fb6YlXgqVTxc"
      },
      "execution_count": 5,
      "outputs": []
    },
    {
      "cell_type": "code",
      "source": [
        "x=np.linspace(st.lognorm.ppf(0.01,s ),\n",
        "              st.lognorm.ppf(0.99,s),100)\n",
        "ax.plot(x,st.lognorm.pdf(x, s), 'r-',lw=5,alpha=0.6,label='lognorm pdf')"
      ],
      "metadata": {
        "colab": {
          "base_uri": "https://localhost:8080/",
          "height": 208
        },
        "id": "uiLipT-AWkzP",
        "outputId": "3fbf7c83-7f0b-4d58-ec7f-cbc052d6672e"
      },
      "execution_count": 6,
      "outputs": [
        {
          "output_type": "error",
          "ename": "NameError",
          "evalue": "ignored",
          "traceback": [
            "\u001b[0;31m---------------------------------------------------------------------------\u001b[0m",
            "\u001b[0;31mNameError\u001b[0m                                 Traceback (most recent call last)",
            "\u001b[0;32m<ipython-input-6-0e2032595c6d>\u001b[0m in \u001b[0;36m<module>\u001b[0;34m()\u001b[0m\n\u001b[1;32m      1\u001b[0m x=np.linspace(st.lognorm.ppf(0.01,s ),\n\u001b[1;32m      2\u001b[0m               st.lognorm.ppf(0.99,s),100)\n\u001b[0;32m----> 3\u001b[0;31m \u001b[0max\u001b[0m\u001b[0;34m.\u001b[0m\u001b[0mplot\u001b[0m\u001b[0;34m(\u001b[0m\u001b[0mx\u001b[0m\u001b[0;34m,\u001b[0m\u001b[0mst\u001b[0m\u001b[0;34m.\u001b[0m\u001b[0mlognorm\u001b[0m\u001b[0;34m.\u001b[0m\u001b[0mpdf\u001b[0m\u001b[0;34m(\u001b[0m\u001b[0mx\u001b[0m\u001b[0;34m,\u001b[0m \u001b[0ms\u001b[0m\u001b[0;34m)\u001b[0m\u001b[0;34m,\u001b[0m \u001b[0;34m'r-'\u001b[0m\u001b[0;34m,\u001b[0m\u001b[0mlw\u001b[0m\u001b[0;34m=\u001b[0m\u001b[0;36m5\u001b[0m\u001b[0;34m,\u001b[0m\u001b[0malpha\u001b[0m\u001b[0;34m=\u001b[0m\u001b[0;36m0.6\u001b[0m\u001b[0;34m,\u001b[0m\u001b[0mlabel\u001b[0m\u001b[0;34m=\u001b[0m\u001b[0;34m'lognorm pdf'\u001b[0m\u001b[0;34m)\u001b[0m\u001b[0;34m\u001b[0m\u001b[0;34m\u001b[0m\u001b[0m\n\u001b[0m",
            "\u001b[0;31mNameError\u001b[0m: name 'ax' is not defined"
          ]
        }
      ]
    },
    {
      "cell_type": "code",
      "source": [
        "bau=[1,2,3,4,5,6]\n",
        "iterator=iter(bau)\n",
        "x=next(iterator)\n",
        "print(x)"
      ],
      "metadata": {
        "colab": {
          "base_uri": "https://localhost:8080/"
        },
        "id": "frkDtnC87yeV",
        "outputId": "ee67eb6f-262e-4a27-dbac-a2719be36e48"
      },
      "execution_count": 7,
      "outputs": [
        {
          "output_type": "stream",
          "name": "stdout",
          "text": [
            "1\n"
          ]
        }
      ]
    },
    {
      "cell_type": "code",
      "source": [
        "x=4\n",
        "s='ciao' if x > 1 else 'arrivederci'\n",
        "s"
      ],
      "metadata": {
        "id": "PNk4HRT18YR0",
        "colab": {
          "base_uri": "https://localhost:8080/",
          "height": 35
        },
        "outputId": "3651e756-59bd-4c77-9d98-7f754099cd2d"
      },
      "execution_count": 8,
      "outputs": [
        {
          "output_type": "execute_result",
          "data": {
            "application/vnd.google.colaboratory.intrinsic+json": {
              "type": "string"
            },
            "text/plain": [
              "'ciao'"
            ]
          },
          "metadata": {},
          "execution_count": 8
        }
      ]
    },
    {
      "cell_type": "code",
      "source": [
        "tup=(1,2,3,3,4,5,8,('stringaaa',))\n",
        "a,s,d,f,g,h,j,k=tup\n",
        "tup=list(tup)\n",
        "tup[0]=33\n",
        "tup\n",
        "type(tup[7])\n",
        "a"
      ],
      "metadata": {
        "colab": {
          "base_uri": "https://localhost:8080/"
        },
        "id": "qK4A4ryBxd82",
        "outputId": "512c43a9-b5b7-461a-bed2-72d30be87c9d"
      },
      "execution_count": 9,
      "outputs": [
        {
          "output_type": "execute_result",
          "data": {
            "text/plain": [
              "1"
            ]
          },
          "metadata": {},
          "execution_count": 9
        }
      ]
    },
    {
      "cell_type": "code",
      "source": [
        "d=[3,5,7,9]\n",
        "a,c,b,m=d"
      ],
      "metadata": {
        "id": "107NXNHhy2eX"
      },
      "execution_count": 10,
      "outputs": []
    },
    {
      "cell_type": "code",
      "source": [
        "tuuple=(0,1,'ciao',[1,2,3,4,54])\n",
        "liist=['list1','list2']\n",
        "tuuple[::-1]\n",
        "zipped=zip(tuuple,liist)\n",
        "list(zipped)\n",
        "tuuple[3][0]=12"
      ],
      "metadata": {
        "id": "RMgfADUFW9OO"
      },
      "execution_count": 11,
      "outputs": []
    },
    {
      "cell_type": "code",
      "source": [
        "#options price generator\n",
        "# S_t=input() #stock price at time t\n",
        "r=0.1 ##float(input('risk free rate: '))\n",
        "S_0=50#float(input('prezzo dell\\'azione al tempo 0: ')) #stock price at time 0\n",
        "st_dev=0.3#float(input('deviazione standard: '))  #standard deviation\n",
        "# mean=float(input('media: '))  # mean \n",
        "t=3/12#float(input('time between S_0 and S_t: ')) # time between S_0 and S_t\n",
        "W_t= norm(loc=0,scale=np.sqrt(t)) # Brownian stochastic process ~(0,sqrt(t)) \n",
        "#funzionde per stimare il prezzo di un'azione \n",
        "def stima_del_prezzo_dell_azione_in_t(S_0,st_dev,r,t,W_t):\n",
        "  S_t=S_0*np.exp((r-st_dev**2/2)*t+st_dev*W_t.rvs())\n",
        "  return S_t\n",
        "\n",
        "stima_del_prezzo_dell_azione_in_t(S_0,st_dev,r,t,W_t)\n",
        "#funzione per stimare il valore atteso di un'azione asal tempo t\n",
        "def expected_value_of_S_t(S_0,st_dev,r,t,W_t):\n",
        "  EV=S_0*np.exp((r-st_dev**2/2)*t)\n",
        "\n",
        "K=50 #int(input('stike price: ')) #stike price\n",
        "stochastic_standard_norm=norm(loc=0,scale=1)\n",
        "\n",
        "# funzione per calcolare d1 del modello black and scholes\n",
        "def calculate_d_1(S_0,st_dev,r,t):\n",
        "  global d_1\n",
        "  d_1=(np.log(S_0/K)+(r+(st_dev**2/2))*t)/(st_dev*np.sqrt(t))\n",
        "  return d_1\n",
        "# funzione per calcolare d2 del modello black and scholes\n",
        "def calculate_d_2(S_0,st_dev,r,t):\n",
        "  global d_2\n",
        "  d_2=(np.log(S_0/K)+(r-(st_dev**2/2))*t)/(st_dev*np.sqrt(t)) #d_2=d_1-st_dev*np.sqrt(t) \n",
        "  return d_2\n",
        "# funzione per calcolare il prezzo della call\n",
        "def call_option_price(d_1,d_2,S_0,st_dev,r,t):\n",
        "  c=S_0*stochastic_standard_norm.cdf(d_1)-K*np.exp(-r*t)*stochastic_standard_norm.cdf(d_2)\n",
        "  return c\n",
        "#  funzione per calcolare il prezzo della put\n",
        "def put_option_price(d_1,d_2,S_0,st_dev,r,t):\n",
        "  p=K*np.exp(-r*t)*stochastic_standard_norm.cdf(-d_2)-S_0*stochastic_standard_norm.cdf(-d_1)\n",
        "  return p\n",
        "\n",
        "print(calculate_d_1(S_0,st_dev,r,t))\n",
        "print(calculate_d_2(S_0,st_dev,r,t))\n",
        "print(call_option_price(d_1,d_2,S_0,st_dev,r,t))\n",
        "print(put_option_price(d_1,d_2,S_0,st_dev,r,t))"
      ],
      "metadata": {
        "colab": {
          "base_uri": "https://localhost:8080/"
        },
        "id": "WhBwN1JS1JvV",
        "outputId": "5f1f3e1d-5d58-47c4-9ac7-5fc1222ec2f2"
      },
      "execution_count": 12,
      "outputs": [
        {
          "output_type": "stream",
          "name": "stdout",
          "text": [
            "0.2416666666666667\n",
            "0.09166666666666669\n",
            "3.6104450660840186\n",
            "2.3759406675006467\n"
          ]
        }
      ]
    },
    {
      "cell_type": "code",
      "source": [
        "sample=[]\n",
        "for i in range(1000):\n",
        "  sample.append(W_t.rvs())\n",
        "plt.hist(sample,density=True,histtype='stepfilled')  "
      ],
      "metadata": {
        "colab": {
          "base_uri": "https://localhost:8080/",
          "height": 375
        },
        "id": "jZWe4l7VE7Yh",
        "outputId": "01f2af55-ddf2-4f2f-f676-e891520d80b0"
      },
      "execution_count": 13,
      "outputs": [
        {
          "output_type": "execute_result",
          "data": {
            "text/plain": [
              "(array([0.03669645, 0.13677767, 0.3602924 , 0.58714318, 0.77396146,\n",
              "        0.70390461, 0.47038175, 0.19015432, 0.06004873, 0.0166802 ]),\n",
              " array([-1.384967  , -1.08521048, -0.78545395, -0.48569742, -0.18594089,\n",
              "         0.11381563,  0.41357216,  0.71332869,  1.01308521,  1.31284174,\n",
              "         1.61259827]),\n",
              " <a list of 1 Patch objects>)"
            ]
          },
          "metadata": {},
          "execution_count": 13
        },
        {
          "output_type": "display_data",
          "data": {
            "image/png": "[encoded data removed]",
            "text/plain": [
              "<Figure size 432x288 with 1 Axes>"
            ]
          },
          "metadata": {
            "needs_background": "light"
          }
        }
      ]
    },
    {
      "cell_type": "code",
      "source": [
        "stochastic_v=norm(loc=0,scale=1)\n",
        "stochastic_v.cdf(-0.09)"
      ],
      "metadata": {
        "colab": {
          "base_uri": "https://localhost:8080/"
        },
        "id": "WBLEBp_NP8Bo",
        "outputId": "fce712a3-720d-4587-afa7-60a7486b3da5"
      },
      "execution_count": 14,
      "outputs": [
        {
          "output_type": "execute_result",
          "data": {
            "text/plain": [
              "0.4641436074148279"
            ]
          },
          "metadata": {},
          "execution_count": 14
        }
      ]
    },
    {
      "cell_type": "code",
      "source": [
        "# credit risk\n"
      ],
      "metadata": {
        "id": "DCA5WykXuafZ"
      },
      "execution_count": 15,
      "outputs": []
    },
    {
      "cell_type": "code",
      "source": [
        "#random walk\n",
        "stochastic_1=norm(loc=0,scale=1)\n",
        "stochastic_2=norm(loc=0,scale=1)\n",
        "v_a=[]\n",
        "for i in range(1000):\n",
        "  v_a.append(stochastic_1.rvs()-stochastic_2.rvs())\n",
        "plt.plot(v_a)\n",
        "print('mean should be ~ 0:',np.mean(v_a), 'st. deviation should be ~1: ',np.std(v_a))"
      ],
      "metadata": {
        "colab": {
          "base_uri": "https://localhost:8080/",
          "height": 284
        },
        "id": "OIyVHURUE2hc",
        "outputId": "52c9d80c-21f6-4bad-b6ee-fe86553a4767"
      },
      "execution_count": 16,
      "outputs": [
        {
          "output_type": "stream",
          "name": "stdout",
          "text": [
            "mean should be ~ 0: 0.004771098985783815 st. deviation should be ~1:  1.3835778392883578\n"
          ]
        },
        {
          "output_type": "display_data",
          "data": {
            "image/png": "[encoded data removed]",
            "text/plain": [
              "<Figure size 432x288 with 1 Axes>"
            ]
          },
          "metadata": {
            "needs_background": "light"
          }
        }
      ]
    },
    {
      "cell_type": "code",
      "source": [
        "#random walk with drift\n",
        "stochastic_1=norm(loc=0,scale=1)\n",
        "stochastic_2=norm(loc=0,scale=1)\n",
        "v_a=[]\n",
        "for i in range(1000):\n",
        "  v_a.append(stochastic_1.rvs()-stochastic_2.rvs()+1)\n",
        "plt.plot(v_a)\n",
        "\n"
      ],
      "metadata": {
        "colab": {
          "base_uri": "https://localhost:8080/",
          "height": 284
        },
        "id": "SOqm7VFuGEws",
        "outputId": "3ee2c739-4328-4f02-dde1-4c40d047b902"
      },
      "execution_count": 17,
      "outputs": [
        {
          "output_type": "execute_result",
          "data": {
            "text/plain": [
              "[<matplotlib.lines.Line2D at 0x7efd2a2a8450>]"
            ]
          },
          "metadata": {},
          "execution_count": 17
        },
        {
          "output_type": "display_data",
          "data": {
            "image/png": "[encoded data removed]",
            "text/plain": [
              "<Figure size 432x288 with 1 Axes>"
            ]
          },
          "metadata": {
            "needs_background": "light"
          }
        }
      ]
    },
    {
      "cell_type": "code",
      "source": [
        "def funzione_indicatrice(momento_aleatorio_default,tempo):\n",
        "  if momento_aleatorio_default < tempo:\n",
        "    I=0\n",
        "  else:\n",
        "    I=1\n",
        "  return I\n",
        "T=1 #float(input('T: '))\n",
        "t=0.5 #float(input('t: '))\n",
        "my_lambda=0.20\n",
        "FACE_VALUE=100\n",
        "tau=expon(scale=1/my_lambda)\n",
        "prezzo=[]\n",
        "# plt.plot(tau.rvs(size=100))\n",
        "for i in range(10000):\n",
        "  prezzo_del_derivato_rischioso=FACE_VALUE*np.exp(-(r+my_lambda)*(T-t)) * funzione_indicatrice(tau.rvs(),t)\n",
        "  prezzo.append(prezzo_del_derivato_rischioso)\n",
        "plt.hist(prezzo)"
      ],
      "metadata": {
        "colab": {
          "base_uri": "https://localhost:8080/",
          "height": 375
        },
        "id": "q1WE5PNkXN71",
        "outputId": "5c5d68dd-fdaa-4700-d9eb-98b85e739552"
      },
      "execution_count": 63,
      "outputs": [
        {
          "output_type": "execute_result",
          "data": {
            "text/plain": [
              "(array([ 951.,    0.,    0.,    0.,    0.,    0.,    0.,    0.,    0.,\n",
              "        9049.]),\n",
              " array([ 0.        ,  8.60707976, 17.21415953, 25.82123929, 34.42831906,\n",
              "        43.03539882, 51.64247859, 60.24955835, 68.85663811, 77.46371788,\n",
              "        86.07079764]),\n",
              " <a list of 10 Patch objects>)"
            ]
          },
          "metadata": {},
          "execution_count": 63
        },
        {
          "output_type": "display_data",
          "data": {
            "image/png": "[encoded data removed]",
            "text/plain": [
              "<Figure size 432x288 with 1 Axes>"
            ]
          },
          "metadata": {
            "needs_background": "light"
          }
        }
      ]
    }
  ]
}